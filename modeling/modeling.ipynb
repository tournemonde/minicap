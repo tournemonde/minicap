{
 "cells": [
  {
   "cell_type": "code",
   "execution_count": null,
   "metadata": {},
   "outputs": [],
   "source": []
  },
  {
   "cell_type": "markdown",
   "metadata": {},
   "source": [
    "### Imports"
   ]
  },
  {
   "cell_type": "code",
   "execution_count": 26,
   "metadata": {},
   "outputs": [],
   "source": [
    "import modeling_utils as md\n",
    "from tensorflow.keras.models import Sequential\n",
    "from tensorflow.keras.datasets.cifar100 import load_data\n",
    "from tensorflow.keras.applications import ResNet50\n",
    "from tensorflow.keras.layers import Dense\n",
    "\n",
    "from tensorflow.data.experimental import AUTOTUNE\n",
    "from tensorflow.keras.optimizers.schedules import ExponentialDecay\n",
    "from tensorflow.keras.callbacks import ModelCheckpoint, EarlyStopping\n",
    "from os.path import join\n"
   ]
  },
  {
   "cell_type": "markdown",
   "metadata": {},
   "source": [
    "### Configuration"
   ]
  },
  {
   "cell_type": "code",
   "execution_count": 18,
   "metadata": {},
   "outputs": [],
   "source": [
    "NUM_CLASSES = 100\n",
    "BATCH_SIZE = 16\n",
    "LEARNING_RATE = 0.001\n",
    "EPOCHS = 1\n",
    "# CLASS_WEIGHTS = params['class_weights']\n",
    "#CLASS_WEIGHTS = {id: val for id, val in enumerate(CLASS_WEIGHTS)}\n",
    "# DATAPATH = 'data/05_inputs/three_cat'\n",
    "MODEL_OUTPUTS = 'data/02_models'\n",
    "HISTORY_OUTPUT = 'data/03_meta'\n",
    "MODEL_NAME = f'resnet50_{LEARNING_RATE}_{BATCH_SIZE}_{EPOCHS}.h5'"
   ]
  },
  {
   "cell_type": "markdown",
   "metadata": {},
   "source": [
    "### Functions and Callbacks"
   ]
  },
  {
   "cell_type": "code",
   "execution_count": 19,
   "metadata": {},
   "outputs": [],
   "source": [
    "lr_schedule_cb = ExponentialDecay(LEARNING_RATE, decay_steps=20, decay_rate=0.96, staircase=True)\n",
    "checkpoint_cb = ModelCheckpoint(join(MODEL_OUTPUTS, MODEL_NAME), save_best_only=True)\n",
    "early_stopping_cb = EarlyStopping(monitor='val_loss', patience=5, restore_best_weights=True)"
   ]
  },
  {
   "cell_type": "markdown",
   "metadata": {},
   "source": [
    "### Load Data"
   ]
  },
  {
   "cell_type": "code",
   "execution_count": 20,
   "metadata": {},
   "outputs": [],
   "source": [
    "(x_train, y_train), (x_test, y_test) = load_data()"
   ]
  },
  {
   "cell_type": "code",
   "execution_count": 21,
   "metadata": {},
   "outputs": [],
   "source": [
    "assert x_train.shape == (50000, 32, 32, 3)\n",
    "assert x_test.shape == (10000, 32, 32, 3)\n",
    "assert y_train.shape == (50000, 1)\n",
    "assert y_test.shape == (10000, 1)"
   ]
  },
  {
   "cell_type": "markdown",
   "metadata": {},
   "source": [
    "### Train"
   ]
  },
  {
   "cell_type": "code",
   "execution_count": 27,
   "metadata": {},
   "outputs": [
    {
     "ename": "AttributeError",
     "evalue": "module 'modeling_utils' has no attribute 'build_resnet50'",
     "output_type": "error",
     "traceback": [
      "\u001b[0;31m---------------------------------------------------------------------------\u001b[0m",
      "\u001b[0;31mAttributeError\u001b[0m                            Traceback (most recent call last)",
      "\u001b[1;32m/Users/tournemonde/Documents/10.GitHub/01.OwnRepos/MLOps/minicap/modeling/modeling.ipynb Cell 12'\u001b[0m in \u001b[0;36m<cell line: 1>\u001b[0;34m()\u001b[0m\n\u001b[0;32m----> <a href='vscode-notebook-cell:/Users/tournemonde/Documents/10.GitHub/01.OwnRepos/MLOps/minicap/modeling/modeling.ipynb#ch0000007?line=0'>1</a>\u001b[0m vision_model \u001b[39m=\u001b[39m md\u001b[39m.\u001b[39;49mbuild_resnet50(NUM_CLASSES)\n",
      "\u001b[0;31mAttributeError\u001b[0m: module 'modeling_utils' has no attribute 'build_resnet50'"
     ]
    }
   ],
   "source": [
    "vision_model = md.build_resnet50(NUM_CLASSES)"
   ]
  },
  {
   "cell_type": "code",
   "execution_count": null,
   "metadata": {},
   "outputs": [],
   "source": []
  },
  {
   "cell_type": "code",
   "execution_count": null,
   "metadata": {},
   "outputs": [],
   "source": []
  },
  {
   "cell_type": "markdown",
   "metadata": {},
   "source": []
  }
 ],
 "metadata": {
  "interpreter": {
   "hash": "e69d9e5f4455142e7e2aa386405e9f4c69b6b4c4b32b76d76722e1d42d0bb6ae"
  },
  "kernelspec": {
   "display_name": "Python 3.8.13 ('mlops-course')",
   "language": "python",
   "name": "python3"
  },
  "language_info": {
   "codemirror_mode": {
    "name": "ipython",
    "version": 3
   },
   "file_extension": ".py",
   "mimetype": "text/x-python",
   "name": "python",
   "nbconvert_exporter": "python",
   "pygments_lexer": "ipython3",
   "version": "3.8.13"
  },
  "orig_nbformat": 4
 },
 "nbformat": 4,
 "nbformat_minor": 2
}
